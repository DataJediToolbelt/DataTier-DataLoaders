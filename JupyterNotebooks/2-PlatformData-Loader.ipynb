{
 "metadata": {
  "kernelspec": {
   "name": "SQL",
   "display_name": "SQL",
   "language": "sql"
  },
  "language_info": {
   "name": "sql",
   "version": ""
  }
 },
 "nbformat_minor": 2,
 "nbformat": 4,
 "cells": [
  {
   "cell_type": "code",
   "source": [
    "PRINT 'Platform Data'"
   ],
   "metadata": {
    "azdata_cell_guid": "5188c1ee-0af5-4235-b15c-e975a0305d71",
    "language": "sql"
   },
   "outputs": [],
   "execution_count": null
  },
  {
   "cell_type": "markdown",
   "source": [],
   "metadata": {
    "collapsed": false
   }
  },
  {
   "cell_type": "code",
   "source": [
    "PRINT 'Platform Data Attributes'\n",
    "INSERT INTO platform_dataattributes (platformdataattributesid, dataattributename, sensitivityflagid, createddate, statusid, createduser, platformdataattributeguid, registeredapp, platformtablename) VALUES \n",
    "(1, 'Names - Last', 3,  null, 1, null, null, '16a17a48-d09b-11ea-9579-bba61161b25a  ', 'dataexisting_namelast'),\n",
    "(2, 'Area Code', 3,  null, 1, null, null, '16a17a48-d09b-11ea-9579-bba61161b25a  ', 'dataexisting_areacode'),\n",
    "(3, 'Address', 3,  null, 1, null, null, '16a17a48-d09b-11ea-9579-bba61161b25a  ', 'datagenerated_addresses'),\n",
    "(4, 'ZipCode US - Includes City & State', 3,  null, 1, null, null, '16a17a48-d09b-11ea-9579-bba61161b25a  ', 'dataexisting_zipcodeus'),\n",
    "(5, 'Phone Number - US', 3,  null, 1, null, null, '16a17a48-d09b-11ea-9579-bba61161b25a  ', 'datagenerated_phonenumber'),\n",
    "(6, 'Credit Cards', 3,  null, 1, null, null, '16a17a48-d09b-11ea-9579-bba61161b25a  ', 'datagenerated_creditcard'),\n",
    "(7, 'Bank Accounts', 1,  null, 1, null, null, '16a17a48-d09b-11ea-9579-bba61161b25a  ', 'datagenerated_bankaccount'),\n",
    "(8, 'Date of Birth', 3,  null, 1, null, null, '16a17a48-d09b-11ea-9579-bba61161b25a  ', 'datagenerated_dateofbirth'),\n",
    "(9, 'Drivers License Number', 1,  null, 1, null, null, '16a17a48-d09b-11ea-9579-bba61161b25a  ', 'datagenerated_driverslicenses'),\n",
    "(10, 'Social Security Number', 3,  null, 1, null, null, '16a17a48-d09b-11ea-9579-bba61161b25a  ', 'datagenerated_socialsecuritynumber'), \n",
    "(11, 'UPC Codes', 1,  null, 1, null, null, '16a17a48-d09b-11ea-9579-bba61161b25a  ', 'dataexisting_upccodes'),\n",
    "(12, 'Company Names', 1,  null, 1, null, null, '16a17a48-d09b-11ea-9579-bba61161b25a  ', 'dataexisting_companies'),\n",
    "(13, 'Employer Identification Numbers (EIN)', 1,  null, 1, null, null, '16a17a48-d09b-11ea-9579-bba61161b25a  ', 'datagenrated_ein'),\n",
    "(14, 'Account Numbers', 3,  null, 1, null, null, '16a17a48-d09b-11ea-9579-bba61161b25a  ', 'datagenerated_accountnumbers'),\n",
    "(15, 'User Identities', 3,  null, 1, null, null, '16a17a48-d09b-11ea-9579-bba61161b25a  ', 'datagenerated_useridentities'),\n",
    "(16, 'Bank Routing', 3,  null, 1, null, null, '16a17a48-d09b-11ea-9579-bba61161b25a  ', 'dataexisting_ababanking'),\n",
    "(17, 'Phone Number - International', 3,  null, 1, null, null, '16a17a48-d09b-11ea-9579-bba61161b25a  ', 'datagenerated_phonenumbersintl'),\n",
    "(20, 'ZipCode Intl ', 3,  null, 1, null, null, '16a17a48-d09b-11ea-9579-bba61161b25a  ', 'dataexisting_zipcodeintl'),\n",
    "(18, 'Names - First', 3,  null, 1, null, null, '16a17a48-d09b-11ea-9579-bba61161b25a  ', 'dataexisting_namefirst'),\n",
    "(21, 'Serial Numbers', 6, null, 1, null, '16a17a48-d09b-11ea-9579-bba61161b25a  ', '16a17a48-d09b-11ea-9579-bba61161b25a  ', 'datagenerated_serialnumbers'),\n",
    "(22, 'Regular Expression Based Data', 3, null, 1, null, '16a17a48-d09b-11ea-9579-bba61161b25a  ', '16a17a48-d09b-11ea-9579-bba61161b25a  ', 'datagenerated_regexs'),\n",
    "(23, 'Professions', 3, null, 1, null, '16a17a48-d09b-11ea-9579-bba61161b25a  ', '16a17a48-d09b-11ea-9579-bba61161b25a  ', 'dataexisting_profession');\n"
   ],
   "metadata": {
    "language": "sql",
    "azdata_cell_guid": "642653ee-31b9-46b5-9c1f-386b1ad9550f"
   },
   "outputs": [
    {
     "output_type": "display_data",
     "data": {
      "text/html": "Platform Data Attributes"
     },
     "metadata": {}
    },
    {
     "output_type": "display_data",
     "data": {
      "text/html": "(22 rows affected)"
     },
     "metadata": {}
    },
    {
     "output_type": "display_data",
     "data": {
      "text/html": "Total execution time: 00:00:00.070"
     },
     "metadata": {}
    }
   ],
   "execution_count": 3
  },
  {
   "cell_type": "code",
   "execution_count": null,
   "outputs": [],
   "source": [
    "PRINT 'Data Generator Types'\n",
    "INSERT INTO refdata_datagentypes (DataGenTypeDescription,Definition,DataAttributeID,CreatedDate,StatusID,CreatedUser) VALUES\n",
    "     ('Master','^5[1-5][0-9]{14}$',6,'2021-05-24 19:48:20',1,NULL),\n",
    "\t ('Visa','^4[0-9]{12}(?:[0-9]{3})?$',6,'2021-05-24 19:48:20',1,NULL),\n",
    "\t ('Discover','^65[4-9][0-9]{13}|64[4-9][0-9]{13}|6011[0-9]{12}|(622(?:12[6-9]|1[3-9][0-9]|[2-8][0-9][0-9]|9[01][0-9]|92[0-5])[0-9]{10})$',6,'2021-05-24 19:48:20',1,NULL),\n",
    "\t ('AMEX','^3[47][0-9]{13}$',6,'2021-05-24 19:48:20',1,NULL),\n",
    "\t ('AL','^[0-9]{7,8}$',9,'2021-05-24 19:48:20',1,NULL),\n",
    "\t ('AK','^[0-9]{7}$',9,'2021-05-24 19:48:20',1,NULL),\n",
    "\t ('AZ','^[A-Z]{1}[0-9]{8}$',9,'2021-05-24 19:48:20',1,NULL),\n",
    "\t ('AR','^[0-9]{9}$',9,'2021-05-24 19:48:20',1,NULL),\n",
    "\t ('CA','^[A-Z]{1}[0-9]{7}$',9,'2021-05-24 19:48:20',1,NULL),\n",
    "\t ('CO','^[0-9]{9}$',9,'2021-05-24 19:48:20',1,NULL);\n",
    "INSERT INTO refdata_datagentypes (DataGenTypeDescription,Definition,DataAttributeID,CreatedDate,StatusID,CreatedUser) VALUES \t \n",
    "\t ('CT','^[0-9]{9}$',9,'2021-05-24 19:48:20',1,NULL),\n",
    "\t ('DE','^[0-9]{1,7}$',9,'2021-05-24 19:48:20',1,NULL),\n",
    "\t ('DC','^[0-9]{7}$',9,'2021-05-24 19:48:20',1,NULL),\n",
    "\t ('FL','^[A-Z]{1}[0-9]{12}$',9,'2021-05-24 19:48:20',1,NULL),\n",
    "\t ('GA','^[0-9]{9}$',9,'2021-05-24 19:48:20',1,NULL),\n",
    "\t ('HI','^H[0-9]{8}$',9,'2021-05-24 19:48:20',1,NULL),\n",
    "\t ('ID','^[A-Z]{3}[0-9]{6}$',9,'2021-05-24 19:48:20',1,NULL),\n",
    "\t ('IL','^[A-Z]{1}[0-9]{11}$',9,'2021-05-24 19:48:20',1,NULL),\n",
    "\t ('IN','^[0-9]{10}$',9,'2021-05-24 19:48:20',1,NULL),\n",
    "\t ('IA','^[A-Z]{3}[0-9]{2}[A-Z]{4}$',9,'2021-05-24 19:48:20',1,NULL);\n",
    "INSERT INTO refdata_datagentypes (DataGenTypeDescription,Definition,DataAttributeID,CreatedDate,StatusID,CreatedUser) VALUES \n",
    "\t ('KS','^K[0-9]{8}$',9,'2021-05-24 19:48:20',1,NULL),\n",
    "\t ('KY','^[A-Z]{1}[0-9]{8}$',9,'2021-05-24 19:48:20',1,NULL),\n",
    "\t ('LA','^0[0-9]{8}$',9,'2021-05-24 19:48:20',1,NULL),\n",
    "\t ('ME','^[0-9]{7}$',9,'2021-05-24 19:48:20',1,NULL),\n",
    "\t ('MD','^[A-Z]{1}[0-9]{12}$',9,'2021-05-24 19:48:20',1,NULL),\n",
    "\t ('MA','^S[0-9]{8}$',9,'2021-05-24 19:48:21',1,NULL),\n",
    "\t ('MI','^[A-Z]{1}[0-9]{12}$',9,'2021-05-24 19:48:21',1,NULL),\n",
    "\t ('MN','^[A-Z]{1}[0-9]{12}$',9,'2021-05-24 19:48:21',1,NULL),\n",
    "\t ('MS','^[0-9]{9}$',9,'2021-05-24 19:48:21',1,NULL),\n",
    "\t ('MO','^[A-Z]{1}[0-9]{9}$',9,'2021-05-24 19:48:21',1,NULL);\n",
    "INSERT INTO refdata_datagentypes (DataGenTypeDescription,Definition,DataAttributeID,CreatedDate,StatusID,CreatedUser) VALUES \n",
    "\t ('MT','^[0-9]{13}$',9,'2021-05-24 19:48:21',1,NULL),\n",
    "\t ('NE','^[A-Z]{1}[0-9]{8}$',9,'2021-05-24 19:48:21',1,NULL),\n",
    "\t ('NV','^[0-9]{12}$',9,'2021-05-24 19:48:21',1,NULL),\n",
    "\t ('NH','^[A-Z]{3}[0-9]{8}$',9,'2021-05-24 19:48:21',1,NULL),\n",
    "\t ('NJ','^[A-Z]{1}[0-9]{14}$',9,'2021-05-24 19:48:21',1,NULL),\n",
    "\t ('NM','^[0-9]{9}$',9,'2021-05-24 19:48:21',1,NULL),\n",
    "\t ('NY','^[0-9]{9}$',9,'2021-05-24 19:48:21',1,NULL),\n",
    "\t ('NC','^[0-9]{12}$',9,'2021-05-24 19:48:21',1,NULL),\n",
    "\t ('ND','^[A-Z]{3}[0-9]{6}$',9,'2021-05-24 19:48:21',1,NULL),\n",
    "\t ('OH','^[A-Z]{2}[0-9]{6}$',9,'2021-05-24 19:48:21',1,NULL);\n",
    "INSERT INTO refdata_datagentypes (DataGenTypeDescription,Definition,DataAttributeID,CreatedDate,StatusID,CreatedUser) VALUES \n",
    "\t ('OK','^[A-Z]{1}[0-9]{9}$',9,'2021-05-24 19:48:21',1,NULL),\n",
    "\t ('OR','^[A-Z]{1}[0-9]{6,7}$',9,'2021-05-24 19:48:21',1,NULL),\n",
    "\t ('PA','^[0-9]{8}$',9,'2021-05-24 19:48:21',1,NULL),\n",
    "\t ('RI','(^V[0-9]{6}$)|(^[0-9]{7}$)',9,'2021-05-24 19:48:21',1,NULL),\n",
    "\t ('SC','^[0-9]{6,11}$',9,'2021-05-24 19:48:21',1,NULL),\n",
    "\t ('SD','^[0-9]{8,9}$',9,'2021-05-24 19:48:21',1,NULL),\n",
    "\t ('TN','^[0-9]{7,9}$',9,'2021-05-24 19:48:21',1,NULL),\n",
    "\t ('TX','^[0-9]{8}$',9,'2021-05-24 19:48:21',1,NULL),\n",
    "\t ('UT','^[0-9]{4,10}$',9,'2021-05-24 19:48:21',1,NULL),\n",
    "\t ('VT','(^[0-9]{7}A$)|(^[0-9]{8}$)',9,'2021-05-24 19:48:21',1,NULL);\n",
    "INSERT INTO refdata_datagentypes (DataGenTypeDescription,Definition,DataAttributeID,CreatedDate,StatusID,CreatedUser) VALUES \n",
    "\t ('VA','^[A-Z]{1}[0-9]{8}$',9,'2021-05-24 19:48:21',1,NULL),\n",
    "\t ('WA','(^[A-Z]{7}[0-9]{5}$)|(^[A-Z]{7}[0-9]{3}[A-Z]{2}$)',9,'2021-05-24 19:48:21',1,NULL),\n",
    "\t ('WV','^[A-Z]{1}[0-9]{6}$',9,'2021-05-24 19:48:21',1,NULL),\n",
    "\t ('WI','^[A-Z]{1}[0-9]{13}$',9,'2021-05-24 19:48:21',1,NULL),\n",
    "\t ('WY','^[0-9]{9}$',9,'2021-05-24 19:48:21',1,NULL),\n",
    "\t ('Numeric','^[0-9]{9}$',14,'2021-05-24 19:48:21',1,NULL),\n",
    "\t ('Mixed','^[A-Z]{2}[%#@&]{1}[0-9]{5}[A-Z]{1}$',14,'2021-05-24 19:48:21',1,NULL),\n",
    "\t ('Peoples Bank','^[0-9]{10}$',7,'2021-05-24 19:48:21',1,NULL),\n",
    "\t ('Cadeceus','^[%#@&]{1}[A-Z]{3}[%#@&]{1}[0-9]{1}[A-Z]{2}$',15,'2021-05-24 19:48:21',1,NULL);"
   ],
   "metadata": {
    "collapsed": false
   }
  },
  {
   "cell_type": "code",
   "source": [
    "PRINT 'Platform Configuration Based Data Attributes'\n",
    "INSERT INTO platform_config_dataattributes (datatypegenconfigname,dataattributeid,runquantity,datagentypeid,createddate,statusid,createduser,applicationid) VALUES\n",
    "\t ('Account Numbers',14,10000,56,'2020-08-22 15:55:52',1,NULL,'16a17a48-d09b-11ea-9579-bba61161b25a  '),\n",
    "\t ('Bank Accounts',7,10000,58,'2020-08-22 15:55:52',1,NULL,'16a17a48-d09b-11ea-9579-bba61161b25a  '),\n",
    "\t ('Credit Cards - Master',6,10000,1,'2020-08-22 15:55:52',1,NULL,'16a17a48-d09b-11ea-9579-bba61161b25a  '),\n",
    "\t ('User Identities',15,10000,59,'2020-08-22 15:55:52',1,NULL,'16a17a48-d09b-11ea-9579-bba61161b25a  '),\n",
    "\t ('Drivers Licenses - AK',9,10000,6,'2020-08-22 15:55:52',1,NULL,'16a17a48-d09b-11ea-9579-bba61161b25a  '),\n",
    "\t ('Drivers Licenses - AL',9,10000,5,'2020-08-22 15:55:52',1,NULL,'16a17a48-d09b-11ea-9579-bba61161b25a  '),\n",
    "\t ('Drivers Licenses - AR',9,10000,8,'2020-08-22 15:55:52',1,NULL,'16a17a48-d09b-11ea-9579-bba61161b25a  '),\n",
    "\t ('Drivers Licenses - AZ',9,10000,7,'2020-08-22 15:55:52',1,NULL,'16a17a48-d09b-11ea-9579-bba61161b25a  '),\n",
    "\t ('Drivers Licenses - CA',9,10000,9,'2020-08-22 15:55:52',1,NULL,'16a17a48-d09b-11ea-9579-bba61161b25a  '),\n",
    "\t ('Drivers Licenses - CO',9,10000,10,'2020-08-22 15:55:52',1,NULL,'16a17a48-d09b-11ea-9579-bba61161b25a  '),\n",
    "\t ('Drivers Licenses - CT',9,10000,11,'2020-08-22 15:55:52',1,NULL,'16a17a48-d09b-11ea-9579-bba61161b25a  '),\n",
    "\t ('Drivers Licenses - DC',9,10000,13,'2020-08-22 15:55:52',1,NULL,'16a17a48-d09b-11ea-9579-bba61161b25a  '),\n",
    "\t ('Drivers Licenses - DE',9,10000,12,'2020-08-22 15:55:52',1,NULL,'16a17a48-d09b-11ea-9579-bba61161b25a  '),\n",
    "\t ('Drivers Licenses - FL',9,10000,14,'2020-08-22 15:55:52',1,NULL,'16a17a48-d09b-11ea-9579-bba61161b25a  '),\n",
    "\t ('Drivers Licenses - GA',9,10000,15,'2020-08-22 15:55:52',1,NULL,'16a17a48-d09b-11ea-9579-bba61161b25a  '),\n",
    "\t ('Drivers Licenses - HI',9,10000,16,'2020-08-22 15:55:52',1,NULL,'16a17a48-d09b-11ea-9579-bba61161b25a  '),\n",
    "\t ('Drivers Licenses - IA',9,10000,20,'2020-08-22 15:55:52',1,NULL,'16a17a48-d09b-11ea-9579-bba61161b25a  '),\n",
    "\t ('Drivers Licenses - ID',9,10000,17,'2020-08-22 15:55:52',1,NULL,'16a17a48-d09b-11ea-9579-bba61161b25a  '),\n",
    "\t ('Drivers Licenses - IL',9,10000,18,'2020-08-22 15:55:52',1,NULL,'16a17a48-d09b-11ea-9579-bba61161b25a  '),\n",
    "\t ('Drivers Licenses - IN',9,10000,19,'2020-08-22 15:55:52',1,NULL,'16a17a48-d09b-11ea-9579-bba61161b25a  '),\n",
    "\t ('Drivers Licenses - KS',9,10000,21,'2020-08-22 15:55:52',1,NULL,'16a17a48-d09b-11ea-9579-bba61161b25a  '),\n",
    "\t ('Drivers Licenses - KY',9,10000,22,'2020-08-22 15:55:52',1,NULL,'16a17a48-d09b-11ea-9579-bba61161b25a  '),\n",
    "\t ('Drivers Licenses - LA',9,10000,23,'2020-08-22 15:55:52',1,NULL,'16a17a48-d09b-11ea-9579-bba61161b25a  '),\n",
    "\t ('Drivers Licenses - MA',9,10000,26,'2020-08-22 15:55:52',1,NULL,'16a17a48-d09b-11ea-9579-bba61161b25a  '),\n",
    "\t ('Drivers Licenses - MD',9,10000,25,'2020-08-22 15:55:52',1,NULL,'16a17a48-d09b-11ea-9579-bba61161b25a  '),\n",
    "\t ('Drivers Licenses - ME',9,10000,24,'2020-08-22 15:55:52',1,NULL,'16a17a48-d09b-11ea-9579-bba61161b25a  '),\n",
    "\t ('Drivers Licenses - MI',9,10000,27,'2020-08-22 15:55:52',1,NULL,'16a17a48-d09b-11ea-9579-bba61161b25a  '),\n",
    "\t ('Drivers Licenses - MN',9,10000,28,'2020-08-22 15:55:52',1,NULL,'16a17a48-d09b-11ea-9579-bba61161b25a  '),\n",
    "\t ('Drivers Licenses - MO',9,10000,30,'2020-08-22 15:55:52',1,NULL,'16a17a48-d09b-11ea-9579-bba61161b25a  '),\n",
    "\t ('Drivers Licenses - MS',9,10000,29,'2020-08-22 15:55:52',1,NULL,'16a17a48-d09b-11ea-9579-bba61161b25a  '),\n",
    "\t ('Drivers Licenses - MT',9,10000,31,'2020-08-22 15:55:52',1,NULL,'16a17a48-d09b-11ea-9579-bba61161b25a  '),\n",
    "\t ('Drivers Licenses - NC',9,10000,38,'2020-08-22 15:55:52',1,NULL,'16a17a48-d09b-11ea-9579-bba61161b25a  '),\n",
    "\t ('Drivers Licenses - ND',9,10000,39,'2020-08-22 15:55:52',1,NULL,'16a17a48-d09b-11ea-9579-bba61161b25a  '),\n",
    "\t ('Drivers Licenses - NE',9,10000,32,'2020-08-22 15:55:52',1,NULL,'16a17a48-d09b-11ea-9579-bba61161b25a  '),\n",
    "\t ('Drivers Licenses - NH',9,10000,34,'2020-08-22 15:55:52',1,NULL,'16a17a48-d09b-11ea-9579-bba61161b25a  '),\n",
    "\t ('Drivers Licenses - NJ',9,10000,35,'2020-08-22 15:55:52',1,NULL,'16a17a48-d09b-11ea-9579-bba61161b25a  '),\n",
    "\t ('Drivers Licenses - NM',9,10000,36,'2020-08-22 15:55:52',1,NULL,'16a17a48-d09b-11ea-9579-bba61161b25a  '),\n",
    "\t ('Drivers Licenses - NV',9,10000,33,'2020-08-22 15:55:52',1,NULL,'16a17a48-d09b-11ea-9579-bba61161b25a  '),\n",
    "\t ('Drivers Licenses - NY',9,10000,37,'2020-08-22 15:55:52',1,NULL,'16a17a48-d09b-11ea-9579-bba61161b25a  '),\n",
    "\t ('Drivers Licenses - OH',9,10000,40,'2020-08-22 15:55:52',1,NULL,'16a17a48-d09b-11ea-9579-bba61161b25a  '),\n",
    "\t ('Drivers Licenses - OK',9,10000,41,'2020-08-22 15:55:52',1,NULL,'16a17a48-d09b-11ea-9579-bba61161b25a  '),\n",
    "\t ('Drivers Licenses - OR',9,10000,42,'2020-08-22 15:55:52',1,NULL,'16a17a48-d09b-11ea-9579-bba61161b25a  '),\n",
    "\t ('Drivers Licenses - PA',9,10000,43,'2020-08-22 15:55:52',1,NULL,'16a17a48-d09b-11ea-9579-bba61161b25a  '),\n",
    "\t ('Drivers Licenses - RI',9,10000,44,'2020-08-22 15:55:52',1,NULL,'16a17a48-d09b-11ea-9579-bba61161b25a  '),\n",
    "\t ('Drivers Licenses - SC',9,10000,45,'2020-08-22 15:55:52',1,NULL,'16a17a48-d09b-11ea-9579-bba61161b25a  '),\n",
    "\t ('Drivers Licenses - SD',9,10000,46,'2020-08-22 15:55:52',1,NULL,'16a17a48-d09b-11ea-9579-bba61161b25a  '),\n",
    "\t ('Drivers Licenses - TN',9,10000,47,'2020-08-22 15:55:52',1,NULL,'16a17a48-d09b-11ea-9579-bba61161b25a  '),\n",
    "\t ('Drivers Licenses - TX',9,10000,48,'2020-08-22 15:55:52',1,NULL,'16a17a48-d09b-11ea-9579-bba61161b25a  '),\n",
    "\t ('Drivers Licenses - UT',9,10000,49,'2020-08-22 15:55:52',1,NULL,'16a17a48-d09b-11ea-9579-bba61161b25a  '),\n",
    "\t ('Drivers Licenses - VA',9,10000,51,'2020-08-22 15:55:52',1,NULL,'16a17a48-d09b-11ea-9579-bba61161b25a  '),\n",
    "\t ('Drivers Licenses - VT',9,10000,50,'2020-08-22 15:55:52',1,NULL,'16a17a48-d09b-11ea-9579-bba61161b25a  '),\n",
    "\t ('Drivers Licenses - WA',9,10000,52,'2020-08-22 15:55:52',1,NULL,'16a17a48-d09b-11ea-9579-bba61161b25a  '),\n",
    "\t ('Drivers Licenses - WI',9,10000,54,'2020-08-22 15:55:52',1,NULL,'16a17a48-d09b-11ea-9579-bba61161b25a  '),\n",
    "\t ('Drivers Licenses - WV',9,10000,53,'2020-08-22 15:55:52',1,NULL,'16a17a48-d09b-11ea-9579-bba61161b25a  '),\n",
    "\t ('Drivers Licenses - WY',9,10000,55,'2020-08-22 15:55:52',1,NULL,'16a17a48-d09b-11ea-9579-bba61161b25a  '),\n",
    "\t ('Credit Cards - Visa',6,10000,2,'2020-08-22 15:55:52',1,NULL,'16a17a48-d09b-11ea-9579-bba61161b25a  '),\n",
    "\t ('Credit Cards - Discover',6,10000,3,'2020-08-22 15:55:52',1,NULL,'16a17a48-d09b-11ea-9579-bba61161b25a  '),\n",
    "\t ('Credit Cards - AMEX',6,10000,4,'2020-08-22 15:55:52',1,NULL,'16a17a48-d09b-11ea-9579-bba61161b25a  '),\n",
    "\t ('Account Numbers',14,10000,57,'2020-08-22 15:55:52',1,NULL,'16a17a48-d09b-11ea-9579-bba61161b25a  ');\n"
   ],
   "metadata": {
    "language": "sql",
    "azdata_cell_guid": "6b7c8836-c236-42e0-929a-49197b9dbece"
   },
   "outputs": [
    {
     "output_type": "display_data",
     "data": {
      "text/html": "Platform Configuration Based Data Attributes"
     },
     "metadata": {}
    },
    {
     "output_type": "display_data",
     "data": {
      "text/html": "(59 rows affected)"
     },
     "metadata": {}
    },
    {
     "output_type": "display_data",
     "data": {
      "text/html": "Total execution time: 00:00:00.073"
     },
     "metadata": {}
    }
   ],
   "execution_count": 3
  },
  {
   "cell_type": "code",
   "source": [
    "PRINT 'Platform Config Data Structures'\n",
    "INSERT INTO platform_config_datastructures (datastructurename,sensitivityflagid,createddate,statusid,createduser,platformdatastructuresguid,registeredapp) VALUES \n",
    "('Person Demographics',2,'2021-03-29 11:23:43.000',1,NULL,'16a17a48-d09b-11ea-9579-bba61161b25a  ',NULL), \n",
    "('Bank Account',2,'2021-03-29 11:33:12.000',1,NULL,'16a17a48-d09b-11ea-9579-bba61161b25a  ',NULL), \n",
    "('US Phone Number',1,'2021-03-29 11:33:12.000',1,NULL,'16a17a48-d09b-11ea-9579-bba61161b25a  ',NULL), \n",
    "('Complete Name',3,'2021-03-29 11:33:12.000',1,NULL,'16a17a48-d09b-11ea-9579-bba61161b25a  ',NULL), \n",
    "('US Address',1,'2021-03-29 11:33:12.000',1,NULL,'16a17a48-d09b-11ea-9579-bba61161b25a  ',NULL);"
   ],
   "metadata": {
    "language": "sql",
    "azdata_cell_guid": "895062c5-79f6-46a7-809c-28bc82548326"
   },
   "outputs": [
    {
     "output_type": "display_data",
     "data": {
      "text/html": "Platform Config Data Structures"
     },
     "metadata": {}
    },
    {
     "output_type": "display_data",
     "data": {
      "text/html": "(5 rows affected)"
     },
     "metadata": {}
    },
    {
     "output_type": "display_data",
     "data": {
      "text/html": "Total execution time: 00:00:00.071"
     },
     "metadata": {}
    }
   ],
   "execution_count": 5
  },
  {
   "cell_type": "code",
   "source": [
    "PRINT 'Platform Config Data Structures Detail'\n",
    "INSERT INTO platform_config_datastructures_dtl (platformdatastructuresid,compositedatastructurename,sensitivityflagid,createddate,statusid,createduser,platformdatastructurestodataattributesguid,registeredapp,platformdataattributesid)\n",
    "VALUES (1,NULL,1,'2021-03-29 11:41:11.000',1,NULL,NULL,'16a17a48-d09b-11ea-9579-bba61161b25a  ',1),\n",
    "       (1,NULL,1,'2021-03-29 11:41:11.000',1,NULL,NULL,'16a17a48-d09b-11ea-9579-bba61161b25a  ',18),\n",
    "       (2,NULL,1,'2021-03-29 11:44:41.000',1,NULL,NULL,'16a17a48-d09b-11ea-9579-bba61161b25a  ',16),\n",
    "       (2,NULL,1,'2021-03-29 11:44:41.000',1,NULL,NULL,'16a17a48-d09b-11ea-9579-bba61161b25a  ',7),\n",
    "       (3,NULL,1,'2021-03-29 11:44:41.000',1,NULL,NULL,'16a17a48-d09b-11ea-9579-bba61161b25a  ',2),\n",
    "       (3,NULL,1,'2021-03-29 11:44:41.000',1,NULL,NULL,'16a17a48-d09b-11ea-9579-bba61161b25a  ',5),\n",
    "       (4,NULL,1,'2021-03-29 11:44:41.000',1,NULL,NULL,'16a17a48-d09b-11ea-9579-bba61161b25a  ',1),\n",
    "       (4,NULL,1,'2021-03-29 11:44:41.000',1,NULL,NULL,'16a17a48-d09b-11ea-9579-bba61161b25a  ',18),\n",
    "       (5,NULL,1,'2021-03-29 11:44:41.000',1,NULL,NULL,'16a17a48-d09b-11ea-9579-bba61161b25a  ',3),\n",
    "       (5,NULL,1,'2021-03-29 11:44:41.000',1,NULL,NULL,'16a17a48-d09b-11ea-9579-bba61161b25a  ',4),\n",
    "       (1,NULL,1,'2021-12-26 07:49:32.000',1,NULL,NULL,'16a17a48-d09b-11ea-9579-bba61161b25a  ',3),\n",
    "       (1,NULL,1,'2021-12-26 07:51:15.000',1,NULL,NULL,'16a17a48-d09b-11ea-9579-bba61161b25a  ',4),\n",
    "       (1,NULL,1,'2021-12-26 07:51:15.000',1,NULL,NULL,'16a17a48-d09b-11ea-9579-bba61161b25a  ',2),\n",
    "       (1,NULL,1,'2021-12-26 07:51:59.000',1,NULL,NULL,'16a17a48-d09b-11ea-9579-bba61161b25a  ',5),\n",
    "       (1,NULL,1,'2021-12-26 07:51:59.000',1,NULL,NULL,'16a17a48-d09b-11ea-9579-bba61161b25a  ',8),\n",
    "       (1,NULL,1,'2021-12-26 07:53:10.000',1,NULL,NULL,'16a17a48-d09b-11ea-9579-bba61161b25a  ',9),\n",
    "       (1,NULL,1,'2021-12-26 07:53:10.000',1,NULL,NULL,'16a17a48-d09b-11ea-9579-bba61161b25a  ',10);"
   ],
   "metadata": {
    "language": "sql",
    "azdata_cell_guid": "6c581484-0352-44c8-82e9-0b786a743948"
   },
   "outputs": [
    {
     "output_type": "display_data",
     "data": {
      "text/html": "Platform Config Data Structures Detail"
     },
     "metadata": {}
    },
    {
     "output_type": "display_data",
     "data": {
      "text/html": "(17 rows affected)"
     },
     "metadata": {}
    },
    {
     "output_type": "display_data",
     "data": {
      "text/html": "Total execution time: 00:00:00.118"
     },
     "metadata": {}
    }
   ],
   "execution_count": 6
  }
 ]
}
