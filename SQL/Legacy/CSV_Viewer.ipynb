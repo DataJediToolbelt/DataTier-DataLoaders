{
 "cells": [
  {
   "cell_type": "code",
   "id": "initial_id",
   "metadata": {
    "collapsed": true,
    "ExecuteTime": {
     "end_time": "2024-11-09T20:36:03.038802Z",
     "start_time": "2024-11-09T20:36:02.441603Z"
    }
   },
   "source": [
    "import pandas as pd\n",
    "df =pd.read_csv(\"../InsertScripts-CSV/1-DataTier.csv\")\n",
    "print(df)\n",
    "from sqlalchemy import create_engine"
   ],
   "outputs": [
    {
     "name": "stdout",
     "output_type": "stream",
     "text": [
      "       1190632|377406917556547|AMEX|NULL|NULL|NULL|NULL|NULL|NULL|2021-06-17 17:59:28.000|1|6||16a17a48-d09b-11ea-9579-bba61161b25a  |4\n",
      "0       1190633|340880930003992|AMEX|NULL|NULL|NULL|NU...                                                                              \n",
      "1       1190634|346580662437731|AMEX|NULL|NULL|NULL|NU...                                                                              \n",
      "2       1190635|374115872814685|AMEX|NULL|NULL|NULL|NU...                                                                              \n",
      "3       1190636|377519917181540|AMEX|NULL|NULL|NULL|NU...                                                                              \n",
      "4       1190637|376614384262824|AMEX|NULL|NULL|NULL|NU...                                                                              \n",
      "...                                                   ...                                                                              \n",
      "244172  1434805|Z659811866|OK|NULL|NULL|NULL|NULL|NULL...                                                                              \n",
      "244173  1434806|T761589719|OK|NULL|NULL|NULL|NULL|NULL...                                                                              \n",
      "244174  1434807|W190295560|OK|NULL|NULL|NULL|NULL|NULL...                                                                              \n",
      "244175  1434808|L723033820|OK|NULL|NULL|NULL|NULL|NULL...                                                                              \n",
      "244176  1434809|S571622581|OK|NULL|NULL|NULL|NULL|NULL...                                                                              \n",
      "\n",
      "[244177 rows x 1 columns]\n"
     ]
    }
   ],
   "execution_count": 3
  },
  {
   "metadata": {
    "ExecuteTime": {
     "end_time": "2024-11-09T20:35:54.473406Z",
     "start_time": "2024-11-09T20:35:54.470231Z"
    }
   },
   "cell_type": "code",
   "source": "",
   "id": "57dfdd90853a1791",
   "outputs": [],
   "execution_count": null
  },
  {
   "metadata": {},
   "cell_type": "code",
   "outputs": [],
   "execution_count": null,
   "source": "",
   "id": "3276ea95011e8615"
  }
 ],
 "metadata": {
  "kernelspec": {
   "display_name": "Python 3",
   "language": "python",
   "name": "python3"
  },
  "language_info": {
   "codemirror_mode": {
    "name": "ipython",
    "version": 2
   },
   "file_extension": ".py",
   "mimetype": "text/x-python",
   "name": "python",
   "nbconvert_exporter": "python",
   "pygments_lexer": "ipython2",
   "version": "2.7.6"
  }
 },
 "nbformat": 4,
 "nbformat_minor": 5
}
