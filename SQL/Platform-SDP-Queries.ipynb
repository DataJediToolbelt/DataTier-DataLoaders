{
 "cells": [
  {
   "metadata": {},
   "cell_type": "markdown",
   "source": "Total Data Attributes By Specific Type",
   "id": "9f20523a19ac771"
  },
  {
   "metadata": {},
   "cell_type": "code",
   "outputs": [],
   "execution_count": null,
   "source": "select distinct dataattributeid,count(*) from datatier group by dataattributeid order by dataattributeid",
   "id": "30ee9b2a1a70d3fc"
  },
  {
   "metadata": {},
   "cell_type": "markdown",
   "source": "Specific Data Generation Type specific to Data Attributes",
   "id": "56e1a3485739a5cc"
  },
  {
   "metadata": {},
   "cell_type": "code",
   "outputs": [],
   "execution_count": null,
   "source": [
    "select distinct dataattributeid, datagentypeid,count(*) from datatier group by dataattributeid,\n",
    "datagentypeid order by dataattributeid, datagentypeid"
   ],
   "id": "eafa058e25116d7"
  }
 ],
 "metadata": {
  "kernelspec": {
   "display_name": "Python 3",
   "language": "python",
   "name": "python3"
  },
  "language_info": {
   "codemirror_mode": {
    "name": "ipython",
    "version": 2
   },
   "file_extension": ".py",
   "mimetype": "text/x-python",
   "name": "python",
   "nbconvert_exporter": "python",
   "pygments_lexer": "ipython2",
   "version": "2.7.6"
  }
 },
 "nbformat": 4,
 "nbformat_minor": 5
}
