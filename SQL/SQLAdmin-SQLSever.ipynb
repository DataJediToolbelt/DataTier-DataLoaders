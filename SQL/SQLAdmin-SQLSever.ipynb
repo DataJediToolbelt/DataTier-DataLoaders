{
 "cells": [
  {
   "metadata": {},
   "cell_type": "markdown",
   "source": "SQL Server Centric",
   "id": "b20c44c9c8c75ca8"
  },
  {
   "metadata": {},
   "cell_type": "markdown",
   "source": "Remove all data and delete any FK data",
   "id": "156895cb30b7237e"
  },
  {
   "cell_type": "code",
   "execution_count": null,
   "id": "initial_id",
   "metadata": {
    "collapsed": true
   },
   "outputs": [],
   "source": "TRUNCATE TABLE <TableName> RESTART IDENTITY CASCADE;"
  },
  {
   "metadata": {},
   "cell_type": "markdown",
   "source": "Truncate table and Restart Identity Keys",
   "id": "4489b19bccb1821c"
  },
  {
   "metadata": {},
   "cell_type": "code",
   "outputs": [],
   "execution_count": null,
   "source": "TRUNCATE TABLE <TableName> RESTART IDENTITY;",
   "id": "f264d9a117a5c20d"
  },
  {
   "metadata": {},
   "cell_type": "markdown",
   "source": "Alter Sequence and restart values",
   "id": "4cfe0139a7f8be94"
  },
  {
   "metadata": {},
   "cell_type": "code",
   "outputs": [],
   "execution_count": null,
   "source": "alter sequence dataexisting_seq restart with 1;",
   "id": "6346a8338be9f57f"
  }
 ],
 "metadata": {
  "kernelspec": {
   "display_name": "Python 3",
   "language": "python",
   "name": "python3"
  },
  "language_info": {
   "codemirror_mode": {
    "name": "ipython",
    "version": 2
   },
   "file_extension": ".py",
   "mimetype": "text/x-python",
   "name": "python",
   "nbconvert_exporter": "python",
   "pygments_lexer": "ipython2",
   "version": "2.7.6"
  }
 },
 "nbformat": 4,
 "nbformat_minor": 5
}
